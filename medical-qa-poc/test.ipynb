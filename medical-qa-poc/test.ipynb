{
 "cells": [
  {
   "cell_type": "code",
   "execution_count": 1,
   "id": "42b9f440",
   "metadata": {},
   "outputs": [],
   "source": [
    "# ✅ Environment Setup\n",
    "import os\n",
    "from dotenv import load_dotenv\n",
    "load_dotenv(override = True)\n",
    "\n",
    "DATA_PATH = os.getenv(\"DATA_PATH\", \"OneDrive_2025-06-12/LLM Collatoral\")\n",
    "PERSIST_DIRECTORY = os.getenv(\"PERSIST_DIRECTORY\", \"data/vector_store\")\n",
    "KG_FILE_PATH = os.getenv(\"KG_FILE_PATH\", \"data/medical_kg.gml\")\n"
   ]
  },
  {
   "cell_type": "code",
   "execution_count": 4,
   "id": "4ba10586",
   "metadata": {},
   "outputs": [
    {
     "ename": "ModuleNotFoundError",
     "evalue": "No module named 'langchain_community'",
     "output_type": "error",
     "traceback": [
      "\u001b[1;31m---------------------------------------------------------------------------\u001b[0m",
      "\u001b[1;31mModuleNotFoundError\u001b[0m                       Traceback (most recent call last)",
      "Cell \u001b[1;32mIn[4], line 2\u001b[0m\n\u001b[0;32m      1\u001b[0m \u001b[38;5;66;03m# ✅ Load Documents\u001b[39;00m\n\u001b[1;32m----> 2\u001b[0m \u001b[38;5;28;01mfrom\u001b[39;00m \u001b[38;5;21;01mdocument_loader\u001b[39;00m \u001b[38;5;28;01mimport\u001b[39;00m DocumentLoader\n\u001b[0;32m      4\u001b[0m doc_loader \u001b[38;5;241m=\u001b[39m DocumentLoader(data_path\u001b[38;5;241m=\u001b[39mDATA_PATH)\n\u001b[0;32m      5\u001b[0m documents \u001b[38;5;241m=\u001b[39m doc_loader\u001b[38;5;241m.\u001b[39mload_and_split_documents()\n",
      "File \u001b[1;32mc:\\Users\\hp-dv\\Desktop\\saas\\sattva\\medical_doc_poc\\medical-qa-poc\\document_loader.py:6\u001b[0m\n\u001b[0;32m      2\u001b[0m \u001b[38;5;66;03m# from langchain_community.document_loaders import PyPDFLoader, TextLoader # Corrected imports\u001b[39;00m\n\u001b[0;32m      4\u001b[0m \u001b[38;5;28;01mimport\u001b[39;00m \u001b[38;5;21;01mshutil\u001b[39;00m \u001b[38;5;66;03m# For cleaning up test directory\u001b[39;00m\n\u001b[1;32m----> 6\u001b[0m \u001b[38;5;28;01mfrom\u001b[39;00m \u001b[38;5;21;01mlangchain_community\u001b[39;00m\u001b[38;5;21;01m.\u001b[39;00m\u001b[38;5;21;01mdocument_loaders\u001b[39;00m \u001b[38;5;28;01mimport\u001b[39;00m PyPDFLoader, TextLoader, UnstructuredHTMLLoader\n\u001b[0;32m      7\u001b[0m \u001b[38;5;28;01mfrom\u001b[39;00m \u001b[38;5;21;01mlangchain\u001b[39;00m\u001b[38;5;21;01m.\u001b[39;00m\u001b[38;5;21;01mtext_splitter\u001b[39;00m \u001b[38;5;28;01mimport\u001b[39;00m RecursiveCharacterTextSplitter\n\u001b[0;32m      9\u001b[0m LOADER_MAPPING \u001b[38;5;241m=\u001b[39m {\n\u001b[0;32m     10\u001b[0m     \u001b[38;5;124m\"\u001b[39m\u001b[38;5;124m.txt\u001b[39m\u001b[38;5;124m\"\u001b[39m: (TextLoader, {\u001b[38;5;124m\"\u001b[39m\u001b[38;5;124mencoding\u001b[39m\u001b[38;5;124m\"\u001b[39m: \u001b[38;5;124m\"\u001b[39m\u001b[38;5;124mutf8\u001b[39m\u001b[38;5;124m\"\u001b[39m}),\n\u001b[0;32m     11\u001b[0m     \u001b[38;5;124m\"\u001b[39m\u001b[38;5;124m.pdf\u001b[39m\u001b[38;5;124m\"\u001b[39m: (PyPDFLoader, {}),\n\u001b[0;32m     12\u001b[0m     \u001b[38;5;124m\"\u001b[39m\u001b[38;5;124m.html\u001b[39m\u001b[38;5;124m\"\u001b[39m: (UnstructuredHTMLLoader, {}),\n\u001b[0;32m     13\u001b[0m     \u001b[38;5;124m\"\u001b[39m\u001b[38;5;124m.htm\u001b[39m\u001b[38;5;124m\"\u001b[39m: (UnstructuredHTMLLoader, {}),\n\u001b[0;32m     14\u001b[0m }\n",
      "\u001b[1;31mModuleNotFoundError\u001b[0m: No module named 'langchain_community'"
     ]
    }
   ],
   "source": [
    "# ✅ Load Documents\n",
    "from document_loader import DocumentLoader\n",
    "\n",
    "doc_loader = DocumentLoader(data_path=DATA_PATH)\n",
    "documents = doc_loader.load_and_split_documents()\n",
    "print(f\"Loaded and split {len(documents)} chunks.\")"
   ]
  },
  {
   "cell_type": "code",
   "execution_count": null,
   "id": "537cb13f",
   "metadata": {},
   "outputs": [],
   "source": []
  }
 ],
 "metadata": {
  "kernelspec": {
   "display_name": "base",
   "language": "python",
   "name": "python3"
  },
  "language_info": {
   "codemirror_mode": {
    "name": "ipython",
    "version": 3
   },
   "file_extension": ".py",
   "mimetype": "text/x-python",
   "name": "python",
   "nbconvert_exporter": "python",
   "pygments_lexer": "ipython3",
   "version": "3.11.7"
  }
 },
 "nbformat": 4,
 "nbformat_minor": 5
}
